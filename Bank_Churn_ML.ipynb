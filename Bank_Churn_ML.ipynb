{
 "cells": [
  {
   "cell_type": "markdown",
   "metadata": {},
   "source": [
    "# Bank Customer Churn Prediction"
   ]
  },
  {
   "cell_type": "markdown",
   "metadata": {},
   "source": [
    "# Libraries Used"
   ]
  },
  {
   "cell_type": "code",
   "execution_count": null,
   "metadata": {},
   "outputs": [],
   "source": [
    "import pandas as pd\n",
    "import matplotlib.pyplot as plt\n",
    "import seaborn as sns\n",
    "import pickle\n",
    "\n",
    "from sklearn.preprocessing import LabelEncoder,OrdinalEncoder,StandardScaler\n",
    "\n",
    "from imblearn.over_sampling import RandomOverSampler,SMOTE\n",
    "\n",
    "from sklearn.model_selection import train_test_split,cross_val_score\n",
    "from sklearn.metrics import classification_report\n",
    "\n",
    "from sklearn.neighbors import KNeighborsClassifier\n",
    "from sklearn.svm import SVC\n",
    "from sklearn.naive_bayes import GaussianNB\n",
    "from sklearn.tree import DecisionTreeClassifier"
   ]
  },
  {
   "cell_type": "markdown",
   "metadata": {},
   "source": [
    "# DataSet Details"
   ]
  },
  {
   "cell_type": "code",
   "execution_count": 2,
   "metadata": {},
   "outputs": [
    {
     "data": {
      "text/html": [
       "<div>\n",
       "<style scoped>\n",
       "    .dataframe tbody tr th:only-of-type {\n",
       "        vertical-align: middle;\n",
       "    }\n",
       "\n",
       "    .dataframe tbody tr th {\n",
       "        vertical-align: top;\n",
       "    }\n",
       "\n",
       "    .dataframe thead th {\n",
       "        text-align: right;\n",
       "    }\n",
       "</style>\n",
       "<table border=\"1\" class=\"dataframe\">\n",
       "  <thead>\n",
       "    <tr style=\"text-align: right;\">\n",
       "      <th></th>\n",
       "      <th>RowNumber</th>\n",
       "      <th>CustomerId</th>\n",
       "      <th>Surname</th>\n",
       "      <th>First Name</th>\n",
       "      <th>Date of Birth</th>\n",
       "      <th>Gender</th>\n",
       "      <th>Marital Status</th>\n",
       "      <th>Number of Dependents</th>\n",
       "      <th>Occupation</th>\n",
       "      <th>Income</th>\n",
       "      <th>Education Level</th>\n",
       "      <th>Address</th>\n",
       "      <th>Contact Information</th>\n",
       "      <th>Customer Tenure</th>\n",
       "      <th>Customer Segment</th>\n",
       "      <th>Preferred Communication Channel</th>\n",
       "      <th>Credit Score</th>\n",
       "      <th>Credit History Length</th>\n",
       "      <th>Outstanding Loans</th>\n",
       "      <th>Churn Flag</th>\n",
       "      <th>Churn Reason</th>\n",
       "      <th>Churn Date</th>\n",
       "      <th>Balance</th>\n",
       "      <th>NumOfProducts</th>\n",
       "      <th>NumComplaints</th>\n",
       "    </tr>\n",
       "  </thead>\n",
       "  <tbody>\n",
       "    <tr>\n",
       "      <th>0</th>\n",
       "      <td>1</td>\n",
       "      <td>83ef0b54-35f6-4f84-af58-5653ac0c0dc4</td>\n",
       "      <td>Smith</td>\n",
       "      <td>Troy</td>\n",
       "      <td>1987-08-29</td>\n",
       "      <td>Male</td>\n",
       "      <td>Divorced</td>\n",
       "      <td>3</td>\n",
       "      <td>Information systems manager</td>\n",
       "      <td>77710.14</td>\n",
       "      <td>High School</td>\n",
       "      <td>26644 Diaz Viaduct\\nNorth Jessicaville, VI 14852</td>\n",
       "      <td>001-301-934-3058x0825</td>\n",
       "      <td>30</td>\n",
       "      <td>Retail</td>\n",
       "      <td>Phone</td>\n",
       "      <td>397</td>\n",
       "      <td>24</td>\n",
       "      <td>41959.74</td>\n",
       "      <td>0</td>\n",
       "      <td>NaN</td>\n",
       "      <td>NaN</td>\n",
       "      <td>211359.05</td>\n",
       "      <td>1</td>\n",
       "      <td>0</td>\n",
       "    </tr>\n",
       "    <tr>\n",
       "      <th>1</th>\n",
       "      <td>2</td>\n",
       "      <td>009f115a-e5ca-4cf4-97d6-530140545e4e</td>\n",
       "      <td>Sullivan</td>\n",
       "      <td>Katrina</td>\n",
       "      <td>2000-02-07</td>\n",
       "      <td>Female</td>\n",
       "      <td>Married</td>\n",
       "      <td>1</td>\n",
       "      <td>Charity fundraiser</td>\n",
       "      <td>58209.87</td>\n",
       "      <td>High School</td>\n",
       "      <td>5642 Rachel Pass Suite 320\\nPort Peggy, RI 75805</td>\n",
       "      <td>+1-581-683-4267</td>\n",
       "      <td>27</td>\n",
       "      <td>SME</td>\n",
       "      <td>Email</td>\n",
       "      <td>665</td>\n",
       "      <td>10</td>\n",
       "      <td>8916.67</td>\n",
       "      <td>0</td>\n",
       "      <td>NaN</td>\n",
       "      <td>NaN</td>\n",
       "      <td>30624.76</td>\n",
       "      <td>4</td>\n",
       "      <td>1</td>\n",
       "    </tr>\n",
       "    <tr>\n",
       "      <th>2</th>\n",
       "      <td>3</td>\n",
       "      <td>66309fd3-5009-44d3-a3f7-1657c869d573</td>\n",
       "      <td>Fuller</td>\n",
       "      <td>Henry</td>\n",
       "      <td>1954-02-03</td>\n",
       "      <td>Female</td>\n",
       "      <td>Single</td>\n",
       "      <td>1</td>\n",
       "      <td>Television production assistant</td>\n",
       "      <td>9794.01</td>\n",
       "      <td>High School</td>\n",
       "      <td>00025 Brittany Flats Apt. 543\\nNew Amandaborou...</td>\n",
       "      <td>9753900004</td>\n",
       "      <td>14</td>\n",
       "      <td>Retail</td>\n",
       "      <td>Email</td>\n",
       "      <td>715</td>\n",
       "      <td>21</td>\n",
       "      <td>43270.54</td>\n",
       "      <td>0</td>\n",
       "      <td>NaN</td>\n",
       "      <td>NaN</td>\n",
       "      <td>111956.61</td>\n",
       "      <td>2</td>\n",
       "      <td>6</td>\n",
       "    </tr>\n",
       "    <tr>\n",
       "      <th>3</th>\n",
       "      <td>4</td>\n",
       "      <td>b02a30df-1a5f-4087-8075-2a35432da641</td>\n",
       "      <td>Young</td>\n",
       "      <td>Antonio</td>\n",
       "      <td>1991-01-15</td>\n",
       "      <td>Female</td>\n",
       "      <td>Divorced</td>\n",
       "      <td>5</td>\n",
       "      <td>Agricultural engineer</td>\n",
       "      <td>15088.98</td>\n",
       "      <td>High School</td>\n",
       "      <td>Unit 3386 Box 0088\\nDPO AE 71940</td>\n",
       "      <td>+1-928-477-2856x660</td>\n",
       "      <td>23</td>\n",
       "      <td>Corporate</td>\n",
       "      <td>Phone</td>\n",
       "      <td>747</td>\n",
       "      <td>17</td>\n",
       "      <td>17887.65</td>\n",
       "      <td>0</td>\n",
       "      <td>NaN</td>\n",
       "      <td>NaN</td>\n",
       "      <td>201187.61</td>\n",
       "      <td>1</td>\n",
       "      <td>0</td>\n",
       "    </tr>\n",
       "    <tr>\n",
       "      <th>4</th>\n",
       "      <td>5</td>\n",
       "      <td>0d932e5b-bb3a-4104-8c83-f84270f7f2ea</td>\n",
       "      <td>Andersen</td>\n",
       "      <td>John</td>\n",
       "      <td>1992-04-08</td>\n",
       "      <td>Female</td>\n",
       "      <td>Divorced</td>\n",
       "      <td>2</td>\n",
       "      <td>Teacher, early years/pre</td>\n",
       "      <td>60726.56</td>\n",
       "      <td>Master's</td>\n",
       "      <td>0120 Leslie River\\nWest Lindseychester, MN 98290</td>\n",
       "      <td>204.515.2388</td>\n",
       "      <td>22</td>\n",
       "      <td>Corporate</td>\n",
       "      <td>Email</td>\n",
       "      <td>549</td>\n",
       "      <td>25</td>\n",
       "      <td>32686.84</td>\n",
       "      <td>0</td>\n",
       "      <td>NaN</td>\n",
       "      <td>NaN</td>\n",
       "      <td>60391.24</td>\n",
       "      <td>5</td>\n",
       "      <td>6</td>\n",
       "    </tr>\n",
       "    <tr>\n",
       "      <th>...</th>\n",
       "      <td>...</td>\n",
       "      <td>...</td>\n",
       "      <td>...</td>\n",
       "      <td>...</td>\n",
       "      <td>...</td>\n",
       "      <td>...</td>\n",
       "      <td>...</td>\n",
       "      <td>...</td>\n",
       "      <td>...</td>\n",
       "      <td>...</td>\n",
       "      <td>...</td>\n",
       "      <td>...</td>\n",
       "      <td>...</td>\n",
       "      <td>...</td>\n",
       "      <td>...</td>\n",
       "      <td>...</td>\n",
       "      <td>...</td>\n",
       "      <td>...</td>\n",
       "      <td>...</td>\n",
       "      <td>...</td>\n",
       "      <td>...</td>\n",
       "      <td>...</td>\n",
       "      <td>...</td>\n",
       "      <td>...</td>\n",
       "      <td>...</td>\n",
       "    </tr>\n",
       "    <tr>\n",
       "      <th>115635</th>\n",
       "      <td>115636</td>\n",
       "      <td>b4ef7eba-1a9e-4956-b827-50037a1087d5</td>\n",
       "      <td>Russell</td>\n",
       "      <td>Gregory</td>\n",
       "      <td>1965-03-09</td>\n",
       "      <td>Male</td>\n",
       "      <td>Divorced</td>\n",
       "      <td>2</td>\n",
       "      <td>Chemical engineer</td>\n",
       "      <td>15704.15</td>\n",
       "      <td>Diploma</td>\n",
       "      <td>582 Davis Club Apt. 511\\nScottview, MS 82178</td>\n",
       "      <td>001-382-802-1191x6905</td>\n",
       "      <td>10</td>\n",
       "      <td>Corporate</td>\n",
       "      <td>Phone</td>\n",
       "      <td>350</td>\n",
       "      <td>23</td>\n",
       "      <td>26370.30</td>\n",
       "      <td>1</td>\n",
       "      <td>Account Closure</td>\n",
       "      <td>2024-06-24</td>\n",
       "      <td>20804.19</td>\n",
       "      <td>2</td>\n",
       "      <td>7</td>\n",
       "    </tr>\n",
       "    <tr>\n",
       "      <th>115636</th>\n",
       "      <td>115637</td>\n",
       "      <td>578e6b99-b42a-4af1-afb4-fd570ea0721f</td>\n",
       "      <td>Ramirez</td>\n",
       "      <td>Thomas</td>\n",
       "      <td>1955-01-10</td>\n",
       "      <td>Female</td>\n",
       "      <td>Single</td>\n",
       "      <td>3</td>\n",
       "      <td>Chartered legal executive (England and Wales)</td>\n",
       "      <td>75792.62</td>\n",
       "      <td>High School</td>\n",
       "      <td>6372 Moore Lights Apt. 690\\nSouth Benjamin, OH...</td>\n",
       "      <td>+1-894-758-0762x9444</td>\n",
       "      <td>8</td>\n",
       "      <td>Corporate</td>\n",
       "      <td>Email</td>\n",
       "      <td>721</td>\n",
       "      <td>15</td>\n",
       "      <td>36229.64</td>\n",
       "      <td>0</td>\n",
       "      <td>NaN</td>\n",
       "      <td>NaN</td>\n",
       "      <td>10041.21</td>\n",
       "      <td>4</td>\n",
       "      <td>7</td>\n",
       "    </tr>\n",
       "    <tr>\n",
       "      <th>115637</th>\n",
       "      <td>115638</td>\n",
       "      <td>73a64c22-da8f-4c3e-8f62-d92f03636a1e</td>\n",
       "      <td>Clark</td>\n",
       "      <td>Tonya</td>\n",
       "      <td>1955-08-29</td>\n",
       "      <td>Male</td>\n",
       "      <td>Married</td>\n",
       "      <td>4</td>\n",
       "      <td>Field trials officer</td>\n",
       "      <td>30142.28</td>\n",
       "      <td>Diploma</td>\n",
       "      <td>4952 Thomas Corners Apt. 346\\nEdwinshire, GU 4...</td>\n",
       "      <td>(734)940-1024</td>\n",
       "      <td>28</td>\n",
       "      <td>Retail</td>\n",
       "      <td>Email</td>\n",
       "      <td>773</td>\n",
       "      <td>19</td>\n",
       "      <td>6440.85</td>\n",
       "      <td>0</td>\n",
       "      <td>NaN</td>\n",
       "      <td>NaN</td>\n",
       "      <td>108833.43</td>\n",
       "      <td>1</td>\n",
       "      <td>4</td>\n",
       "    </tr>\n",
       "    <tr>\n",
       "      <th>115638</th>\n",
       "      <td>115639</td>\n",
       "      <td>00affc66-75c4-43c4-9019-f28c434b5012</td>\n",
       "      <td>Stewart</td>\n",
       "      <td>Lisa</td>\n",
       "      <td>1992-12-27</td>\n",
       "      <td>Female</td>\n",
       "      <td>Married</td>\n",
       "      <td>0</td>\n",
       "      <td>Legal secretary</td>\n",
       "      <td>58636.06</td>\n",
       "      <td>High School</td>\n",
       "      <td>9575 Edward Springs\\nMichaelmouth, KS 02190</td>\n",
       "      <td>(980)271-6580</td>\n",
       "      <td>22</td>\n",
       "      <td>Retail</td>\n",
       "      <td>Phone</td>\n",
       "      <td>584</td>\n",
       "      <td>23</td>\n",
       "      <td>5740.08</td>\n",
       "      <td>0</td>\n",
       "      <td>NaN</td>\n",
       "      <td>NaN</td>\n",
       "      <td>195548.32</td>\n",
       "      <td>5</td>\n",
       "      <td>6</td>\n",
       "    </tr>\n",
       "    <tr>\n",
       "      <th>115639</th>\n",
       "      <td>115640</td>\n",
       "      <td>cf2dbdf3-607d-414a-bc14-413dde1c3fc7</td>\n",
       "      <td>Steele</td>\n",
       "      <td>Jessica</td>\n",
       "      <td>1974-11-07</td>\n",
       "      <td>Male</td>\n",
       "      <td>Divorced</td>\n",
       "      <td>1</td>\n",
       "      <td>Neurosurgeon</td>\n",
       "      <td>10542.56</td>\n",
       "      <td>Bachelor's</td>\n",
       "      <td>9721 George Well\\nNorth Brianmouth, DC 84440</td>\n",
       "      <td>300.399.7848</td>\n",
       "      <td>4</td>\n",
       "      <td>Corporate</td>\n",
       "      <td>Email</td>\n",
       "      <td>689</td>\n",
       "      <td>12</td>\n",
       "      <td>24658.29</td>\n",
       "      <td>1</td>\n",
       "      <td>Account Closure</td>\n",
       "      <td>2024-03-03</td>\n",
       "      <td>13718.92</td>\n",
       "      <td>2</td>\n",
       "      <td>10</td>\n",
       "    </tr>\n",
       "  </tbody>\n",
       "</table>\n",
       "<p>115640 rows × 25 columns</p>\n",
       "</div>"
      ],
      "text/plain": [
       "        RowNumber  ... NumComplaints\n",
       "0               1  ...             0\n",
       "1               2  ...             1\n",
       "2               3  ...             6\n",
       "3               4  ...             0\n",
       "4               5  ...             6\n",
       "...           ...  ...           ...\n",
       "115635     115636  ...             7\n",
       "115636     115637  ...             7\n",
       "115637     115638  ...             4\n",
       "115638     115639  ...             6\n",
       "115639     115640  ...            10\n",
       "\n",
       "[115640 rows x 25 columns]"
      ]
     },
     "execution_count": 2,
     "metadata": {},
     "output_type": "execute_result"
    }
   ],
   "source": [
    "df = pd.read_csv(r\"dataset\\botswana_bank_customer_churn.csv\")\n",
    "pd.set_option(\"display.max_columns\",False)\n",
    "df"
   ]
  },
  {
   "cell_type": "markdown",
   "metadata": {},
   "source": [
    "* 115640 Records and 25 Columns\n",
    "* Not All Columns are Required for Prediction"
   ]
  },
  {
   "cell_type": "code",
   "execution_count": 3,
   "metadata": {},
   "outputs": [
    {
     "name": "stdout",
     "output_type": "stream",
     "text": [
      "<class 'pandas.core.frame.DataFrame'>\n",
      "RangeIndex: 115640 entries, 0 to 115639\n",
      "Data columns (total 25 columns):\n",
      " #   Column                           Non-Null Count   Dtype  \n",
      "---  ------                           --------------   -----  \n",
      " 0   RowNumber                        115640 non-null  int64  \n",
      " 1   CustomerId                       115640 non-null  object \n",
      " 2   Surname                          115640 non-null  object \n",
      " 3   First Name                       115640 non-null  object \n",
      " 4   Date of Birth                    115640 non-null  object \n",
      " 5   Gender                           115640 non-null  object \n",
      " 6   Marital Status                   115640 non-null  object \n",
      " 7   Number of Dependents             115640 non-null  int64  \n",
      " 8   Occupation                       115640 non-null  object \n",
      " 9   Income                           115640 non-null  float64\n",
      " 10  Education Level                  115640 non-null  object \n",
      " 11  Address                          115640 non-null  object \n",
      " 12  Contact Information              115640 non-null  object \n",
      " 13  Customer Tenure                  115640 non-null  int64  \n",
      " 14  Customer Segment                 115640 non-null  object \n",
      " 15  Preferred Communication Channel  115640 non-null  object \n",
      " 16  Credit Score                     115640 non-null  int64  \n",
      " 17  Credit History Length            115640 non-null  int64  \n",
      " 18  Outstanding Loans                115640 non-null  float64\n",
      " 19  Churn Flag                       115640 non-null  int64  \n",
      " 20  Churn Reason                     14094 non-null   object \n",
      " 21  Churn Date                       14094 non-null   object \n",
      " 22  Balance                          115640 non-null  float64\n",
      " 23  NumOfProducts                    115640 non-null  int64  \n",
      " 24  NumComplaints                    115640 non-null  int64  \n",
      "dtypes: float64(3), int64(8), object(14)\n",
      "memory usage: 22.1+ MB\n"
     ]
    }
   ],
   "source": [
    "df.info()"
   ]
  },
  {
   "cell_type": "code",
   "execution_count": 4,
   "metadata": {},
   "outputs": [
    {
     "data": {
      "text/html": [
       "<div>\n",
       "<style scoped>\n",
       "    .dataframe tbody tr th:only-of-type {\n",
       "        vertical-align: middle;\n",
       "    }\n",
       "\n",
       "    .dataframe tbody tr th {\n",
       "        vertical-align: top;\n",
       "    }\n",
       "\n",
       "    .dataframe thead th {\n",
       "        text-align: right;\n",
       "    }\n",
       "</style>\n",
       "<table border=\"1\" class=\"dataframe\">\n",
       "  <thead>\n",
       "    <tr style=\"text-align: right;\">\n",
       "      <th></th>\n",
       "      <th>RowNumber</th>\n",
       "      <th>Number of Dependents</th>\n",
       "      <th>Income</th>\n",
       "      <th>Customer Tenure</th>\n",
       "      <th>Credit Score</th>\n",
       "      <th>Credit History Length</th>\n",
       "      <th>Outstanding Loans</th>\n",
       "      <th>Churn Flag</th>\n",
       "      <th>Balance</th>\n",
       "      <th>NumOfProducts</th>\n",
       "      <th>NumComplaints</th>\n",
       "    </tr>\n",
       "  </thead>\n",
       "  <tbody>\n",
       "    <tr>\n",
       "      <th>count</th>\n",
       "      <td>115640.000000</td>\n",
       "      <td>115640.000000</td>\n",
       "      <td>115640.000000</td>\n",
       "      <td>115640.000000</td>\n",
       "      <td>115640.000000</td>\n",
       "      <td>115640.000000</td>\n",
       "      <td>115640.000000</td>\n",
       "      <td>115640.000000</td>\n",
       "      <td>115640.000000</td>\n",
       "      <td>115640.000000</td>\n",
       "      <td>115640.000000</td>\n",
       "    </tr>\n",
       "    <tr>\n",
       "      <th>mean</th>\n",
       "      <td>57820.500000</td>\n",
       "      <td>2.502923</td>\n",
       "      <td>52641.363046</td>\n",
       "      <td>15.490591</td>\n",
       "      <td>574.299775</td>\n",
       "      <td>15.546602</td>\n",
       "      <td>25502.731792</td>\n",
       "      <td>0.121878</td>\n",
       "      <td>124639.209748</td>\n",
       "      <td>2.999274</td>\n",
       "      <td>4.991724</td>\n",
       "    </tr>\n",
       "    <tr>\n",
       "      <th>std</th>\n",
       "      <td>33382.536902</td>\n",
       "      <td>1.707249</td>\n",
       "      <td>27429.756390</td>\n",
       "      <td>8.654217</td>\n",
       "      <td>159.067499</td>\n",
       "      <td>8.654630</td>\n",
       "      <td>14127.859827</td>\n",
       "      <td>0.327147</td>\n",
       "      <td>72210.476638</td>\n",
       "      <td>1.411361</td>\n",
       "      <td>3.159283</td>\n",
       "    </tr>\n",
       "    <tr>\n",
       "      <th>min</th>\n",
       "      <td>1.000000</td>\n",
       "      <td>0.000000</td>\n",
       "      <td>5000.960000</td>\n",
       "      <td>1.000000</td>\n",
       "      <td>300.000000</td>\n",
       "      <td>1.000000</td>\n",
       "      <td>1000.430000</td>\n",
       "      <td>0.000000</td>\n",
       "      <td>1.060000</td>\n",
       "      <td>1.000000</td>\n",
       "      <td>0.000000</td>\n",
       "    </tr>\n",
       "    <tr>\n",
       "      <th>25%</th>\n",
       "      <td>28910.750000</td>\n",
       "      <td>1.000000</td>\n",
       "      <td>28857.070000</td>\n",
       "      <td>8.000000</td>\n",
       "      <td>436.000000</td>\n",
       "      <td>8.000000</td>\n",
       "      <td>13226.060000</td>\n",
       "      <td>0.000000</td>\n",
       "      <td>61991.915000</td>\n",
       "      <td>2.000000</td>\n",
       "      <td>2.000000</td>\n",
       "    </tr>\n",
       "    <tr>\n",
       "      <th>50%</th>\n",
       "      <td>57820.500000</td>\n",
       "      <td>3.000000</td>\n",
       "      <td>52658.110000</td>\n",
       "      <td>15.000000</td>\n",
       "      <td>574.000000</td>\n",
       "      <td>16.000000</td>\n",
       "      <td>25505.285000</td>\n",
       "      <td>0.000000</td>\n",
       "      <td>124505.890000</td>\n",
       "      <td>3.000000</td>\n",
       "      <td>5.000000</td>\n",
       "    </tr>\n",
       "    <tr>\n",
       "      <th>75%</th>\n",
       "      <td>86730.250000</td>\n",
       "      <td>4.000000</td>\n",
       "      <td>76364.157500</td>\n",
       "      <td>23.000000</td>\n",
       "      <td>712.000000</td>\n",
       "      <td>23.000000</td>\n",
       "      <td>37742.250000</td>\n",
       "      <td>0.000000</td>\n",
       "      <td>187122.922500</td>\n",
       "      <td>4.000000</td>\n",
       "      <td>8.000000</td>\n",
       "    </tr>\n",
       "    <tr>\n",
       "      <th>max</th>\n",
       "      <td>115640.000000</td>\n",
       "      <td>5.000000</td>\n",
       "      <td>99999.510000</td>\n",
       "      <td>30.000000</td>\n",
       "      <td>850.000000</td>\n",
       "      <td>30.000000</td>\n",
       "      <td>49999.690000</td>\n",
       "      <td>1.000000</td>\n",
       "      <td>249998.910000</td>\n",
       "      <td>5.000000</td>\n",
       "      <td>10.000000</td>\n",
       "    </tr>\n",
       "  </tbody>\n",
       "</table>\n",
       "</div>"
      ],
      "text/plain": [
       "           RowNumber  Number of Dependents  ...  NumOfProducts  NumComplaints\n",
       "count  115640.000000         115640.000000  ...  115640.000000  115640.000000\n",
       "mean    57820.500000              2.502923  ...       2.999274       4.991724\n",
       "std     33382.536902              1.707249  ...       1.411361       3.159283\n",
       "min         1.000000              0.000000  ...       1.000000       0.000000\n",
       "25%     28910.750000              1.000000  ...       2.000000       2.000000\n",
       "50%     57820.500000              3.000000  ...       3.000000       5.000000\n",
       "75%     86730.250000              4.000000  ...       4.000000       8.000000\n",
       "max    115640.000000              5.000000  ...       5.000000      10.000000\n",
       "\n",
       "[8 rows x 11 columns]"
      ]
     },
     "execution_count": 4,
     "metadata": {},
     "output_type": "execute_result"
    }
   ],
   "source": [
    "df.describe()"
   ]
  },
  {
   "cell_type": "markdown",
   "metadata": {},
   "source": [
    "* Type Conversion Needed for Date of Birth"
   ]
  },
  {
   "cell_type": "code",
   "execution_count": 5,
   "metadata": {},
   "outputs": [],
   "source": [
    "df[\"Date of Birth\"] = pd.to_datetime(df[\"Date of Birth\"])"
   ]
  },
  {
   "cell_type": "markdown",
   "metadata": {},
   "source": [
    "* Age Calculation"
   ]
  },
  {
   "cell_type": "code",
   "execution_count": 6,
   "metadata": {},
   "outputs": [],
   "source": [
    "df[\"Age\"] = (pd.Timestamp.today()-df[\"Date of Birth\"]).dt.days//365"
   ]
  },
  {
   "cell_type": "markdown",
   "metadata": {},
   "source": [
    "# New DataSet (with Required Columns)"
   ]
  },
  {
   "cell_type": "code",
   "execution_count": 7,
   "metadata": {},
   "outputs": [],
   "source": [
    "df_new = df[['Gender','Age','Education Level','Marital Status','Number of Dependents','Income','Customer Tenure','Preferred Communication Channel','Credit Score','Credit History Length','Outstanding Loans','Balance','Churn Flag']]"
   ]
  },
  {
   "cell_type": "markdown",
   "metadata": {},
   "source": [
    "* Renaming Column Names for Easy Access"
   ]
  },
  {
   "cell_type": "code",
   "execution_count": 8,
   "metadata": {},
   "outputs": [],
   "source": [
    "df_new = df_new.rename(columns={\"Education Level\":\"Education\",\"Marital Status\":\"Marital_Status\",\"Number of Dependents\":\"Dependents\",\"Customer Tenure\":\"Tenure\",\"Preferred Communication Channel\":\"Communication_Preference\",\"Credit Score\":\"Credit_Score\",\"Credit History Length\":\"Credit_History_Length\",\"Outstanding Loans\":\"Outstanding_Loans\",\"Churn Flag\":\"Churn_Flag\"})"
   ]
  },
  {
   "cell_type": "markdown",
   "metadata": {},
   "source": [
    "* New DataSet"
   ]
  },
  {
   "cell_type": "code",
   "execution_count": 9,
   "metadata": {},
   "outputs": [
    {
     "data": {
      "text/html": [
       "<div>\n",
       "<style scoped>\n",
       "    .dataframe tbody tr th:only-of-type {\n",
       "        vertical-align: middle;\n",
       "    }\n",
       "\n",
       "    .dataframe tbody tr th {\n",
       "        vertical-align: top;\n",
       "    }\n",
       "\n",
       "    .dataframe thead th {\n",
       "        text-align: right;\n",
       "    }\n",
       "</style>\n",
       "<table border=\"1\" class=\"dataframe\">\n",
       "  <thead>\n",
       "    <tr style=\"text-align: right;\">\n",
       "      <th></th>\n",
       "      <th>Gender</th>\n",
       "      <th>Age</th>\n",
       "      <th>Education</th>\n",
       "      <th>Marital_Status</th>\n",
       "      <th>Dependents</th>\n",
       "      <th>Income</th>\n",
       "      <th>Tenure</th>\n",
       "      <th>Communication_Preference</th>\n",
       "      <th>Credit_Score</th>\n",
       "      <th>Credit_History_Length</th>\n",
       "      <th>Outstanding_Loans</th>\n",
       "      <th>Balance</th>\n",
       "      <th>Churn_Flag</th>\n",
       "    </tr>\n",
       "  </thead>\n",
       "  <tbody>\n",
       "    <tr>\n",
       "      <th>0</th>\n",
       "      <td>Male</td>\n",
       "      <td>37</td>\n",
       "      <td>High School</td>\n",
       "      <td>Divorced</td>\n",
       "      <td>3</td>\n",
       "      <td>77710.14</td>\n",
       "      <td>30</td>\n",
       "      <td>Phone</td>\n",
       "      <td>397</td>\n",
       "      <td>24</td>\n",
       "      <td>41959.74</td>\n",
       "      <td>211359.05</td>\n",
       "      <td>0</td>\n",
       "    </tr>\n",
       "    <tr>\n",
       "      <th>1</th>\n",
       "      <td>Female</td>\n",
       "      <td>25</td>\n",
       "      <td>High School</td>\n",
       "      <td>Married</td>\n",
       "      <td>1</td>\n",
       "      <td>58209.87</td>\n",
       "      <td>27</td>\n",
       "      <td>Email</td>\n",
       "      <td>665</td>\n",
       "      <td>10</td>\n",
       "      <td>8916.67</td>\n",
       "      <td>30624.76</td>\n",
       "      <td>0</td>\n",
       "    </tr>\n",
       "    <tr>\n",
       "      <th>2</th>\n",
       "      <td>Female</td>\n",
       "      <td>71</td>\n",
       "      <td>High School</td>\n",
       "      <td>Single</td>\n",
       "      <td>1</td>\n",
       "      <td>9794.01</td>\n",
       "      <td>14</td>\n",
       "      <td>Email</td>\n",
       "      <td>715</td>\n",
       "      <td>21</td>\n",
       "      <td>43270.54</td>\n",
       "      <td>111956.61</td>\n",
       "      <td>0</td>\n",
       "    </tr>\n",
       "    <tr>\n",
       "      <th>3</th>\n",
       "      <td>Female</td>\n",
       "      <td>34</td>\n",
       "      <td>High School</td>\n",
       "      <td>Divorced</td>\n",
       "      <td>5</td>\n",
       "      <td>15088.98</td>\n",
       "      <td>23</td>\n",
       "      <td>Phone</td>\n",
       "      <td>747</td>\n",
       "      <td>17</td>\n",
       "      <td>17887.65</td>\n",
       "      <td>201187.61</td>\n",
       "      <td>0</td>\n",
       "    </tr>\n",
       "    <tr>\n",
       "      <th>4</th>\n",
       "      <td>Female</td>\n",
       "      <td>33</td>\n",
       "      <td>Master's</td>\n",
       "      <td>Divorced</td>\n",
       "      <td>2</td>\n",
       "      <td>60726.56</td>\n",
       "      <td>22</td>\n",
       "      <td>Email</td>\n",
       "      <td>549</td>\n",
       "      <td>25</td>\n",
       "      <td>32686.84</td>\n",
       "      <td>60391.24</td>\n",
       "      <td>0</td>\n",
       "    </tr>\n",
       "  </tbody>\n",
       "</table>\n",
       "</div>"
      ],
      "text/plain": [
       "   Gender  Age    Education  ... Outstanding_Loans    Balance  Churn_Flag\n",
       "0    Male   37  High School  ...          41959.74  211359.05           0\n",
       "1  Female   25  High School  ...           8916.67   30624.76           0\n",
       "2  Female   71  High School  ...          43270.54  111956.61           0\n",
       "3  Female   34  High School  ...          17887.65  201187.61           0\n",
       "4  Female   33     Master's  ...          32686.84   60391.24           0\n",
       "\n",
       "[5 rows x 13 columns]"
      ]
     },
     "execution_count": 9,
     "metadata": {},
     "output_type": "execute_result"
    }
   ],
   "source": [
    "df_new.head()"
   ]
  },
  {
   "cell_type": "code",
   "execution_count": 10,
   "metadata": {},
   "outputs": [
    {
     "data": {
      "text/html": [
       "<div>\n",
       "<style scoped>\n",
       "    .dataframe tbody tr th:only-of-type {\n",
       "        vertical-align: middle;\n",
       "    }\n",
       "\n",
       "    .dataframe tbody tr th {\n",
       "        vertical-align: top;\n",
       "    }\n",
       "\n",
       "    .dataframe thead th {\n",
       "        text-align: right;\n",
       "    }\n",
       "</style>\n",
       "<table border=\"1\" class=\"dataframe\">\n",
       "  <thead>\n",
       "    <tr style=\"text-align: right;\">\n",
       "      <th></th>\n",
       "      <th>Age</th>\n",
       "      <th>Dependents</th>\n",
       "      <th>Income</th>\n",
       "      <th>Tenure</th>\n",
       "      <th>Credit_Score</th>\n",
       "      <th>Credit_History_Length</th>\n",
       "      <th>Outstanding_Loans</th>\n",
       "      <th>Balance</th>\n",
       "      <th>Churn_Flag</th>\n",
       "    </tr>\n",
       "  </thead>\n",
       "  <tbody>\n",
       "    <tr>\n",
       "      <th>count</th>\n",
       "      <td>115640.000000</td>\n",
       "      <td>115640.000000</td>\n",
       "      <td>115640.000000</td>\n",
       "      <td>115640.000000</td>\n",
       "      <td>115640.000000</td>\n",
       "      <td>115640.000000</td>\n",
       "      <td>115640.000000</td>\n",
       "      <td>115640.000000</td>\n",
       "      <td>115640.000000</td>\n",
       "    </tr>\n",
       "    <tr>\n",
       "      <th>mean</th>\n",
       "      <td>47.276479</td>\n",
       "      <td>2.502923</td>\n",
       "      <td>52641.363046</td>\n",
       "      <td>15.490591</td>\n",
       "      <td>574.299775</td>\n",
       "      <td>15.546602</td>\n",
       "      <td>25502.731792</td>\n",
       "      <td>124639.209748</td>\n",
       "      <td>0.121878</td>\n",
       "    </tr>\n",
       "    <tr>\n",
       "      <th>std</th>\n",
       "      <td>16.725334</td>\n",
       "      <td>1.707249</td>\n",
       "      <td>27429.756390</td>\n",
       "      <td>8.654217</td>\n",
       "      <td>159.067499</td>\n",
       "      <td>8.654630</td>\n",
       "      <td>14127.859827</td>\n",
       "      <td>72210.476638</td>\n",
       "      <td>0.327147</td>\n",
       "    </tr>\n",
       "    <tr>\n",
       "      <th>min</th>\n",
       "      <td>18.000000</td>\n",
       "      <td>0.000000</td>\n",
       "      <td>5000.960000</td>\n",
       "      <td>1.000000</td>\n",
       "      <td>300.000000</td>\n",
       "      <td>1.000000</td>\n",
       "      <td>1000.430000</td>\n",
       "      <td>1.060000</td>\n",
       "      <td>0.000000</td>\n",
       "    </tr>\n",
       "    <tr>\n",
       "      <th>25%</th>\n",
       "      <td>33.000000</td>\n",
       "      <td>1.000000</td>\n",
       "      <td>28857.070000</td>\n",
       "      <td>8.000000</td>\n",
       "      <td>436.000000</td>\n",
       "      <td>8.000000</td>\n",
       "      <td>13226.060000</td>\n",
       "      <td>61991.915000</td>\n",
       "      <td>0.000000</td>\n",
       "    </tr>\n",
       "    <tr>\n",
       "      <th>50%</th>\n",
       "      <td>47.000000</td>\n",
       "      <td>3.000000</td>\n",
       "      <td>52658.110000</td>\n",
       "      <td>15.000000</td>\n",
       "      <td>574.000000</td>\n",
       "      <td>16.000000</td>\n",
       "      <td>25505.285000</td>\n",
       "      <td>124505.890000</td>\n",
       "      <td>0.000000</td>\n",
       "    </tr>\n",
       "    <tr>\n",
       "      <th>75%</th>\n",
       "      <td>62.000000</td>\n",
       "      <td>4.000000</td>\n",
       "      <td>76364.157500</td>\n",
       "      <td>23.000000</td>\n",
       "      <td>712.000000</td>\n",
       "      <td>23.000000</td>\n",
       "      <td>37742.250000</td>\n",
       "      <td>187122.922500</td>\n",
       "      <td>0.000000</td>\n",
       "    </tr>\n",
       "    <tr>\n",
       "      <th>max</th>\n",
       "      <td>76.000000</td>\n",
       "      <td>5.000000</td>\n",
       "      <td>99999.510000</td>\n",
       "      <td>30.000000</td>\n",
       "      <td>850.000000</td>\n",
       "      <td>30.000000</td>\n",
       "      <td>49999.690000</td>\n",
       "      <td>249998.910000</td>\n",
       "      <td>1.000000</td>\n",
       "    </tr>\n",
       "  </tbody>\n",
       "</table>\n",
       "</div>"
      ],
      "text/plain": [
       "                 Age     Dependents  ...        Balance     Churn_Flag\n",
       "count  115640.000000  115640.000000  ...  115640.000000  115640.000000\n",
       "mean       47.276479       2.502923  ...  124639.209748       0.121878\n",
       "std        16.725334       1.707249  ...   72210.476638       0.327147\n",
       "min        18.000000       0.000000  ...       1.060000       0.000000\n",
       "25%        33.000000       1.000000  ...   61991.915000       0.000000\n",
       "50%        47.000000       3.000000  ...  124505.890000       0.000000\n",
       "75%        62.000000       4.000000  ...  187122.922500       0.000000\n",
       "max        76.000000       5.000000  ...  249998.910000       1.000000\n",
       "\n",
       "[8 rows x 9 columns]"
      ]
     },
     "execution_count": 10,
     "metadata": {},
     "output_type": "execute_result"
    }
   ],
   "source": [
    "df_new.describe()"
   ]
  },
  {
   "cell_type": "code",
   "execution_count": 11,
   "metadata": {},
   "outputs": [
    {
     "data": {
      "text/plain": [
       "Gender                      0\n",
       "Age                         0\n",
       "Education                   0\n",
       "Marital_Status              0\n",
       "Dependents                  0\n",
       "Income                      0\n",
       "Tenure                      0\n",
       "Communication_Preference    0\n",
       "Credit_Score                0\n",
       "Credit_History_Length       0\n",
       "Outstanding_Loans           0\n",
       "Balance                     0\n",
       "Churn_Flag                  0\n",
       "dtype: int64"
      ]
     },
     "execution_count": 11,
     "metadata": {},
     "output_type": "execute_result"
    }
   ],
   "source": [
    "df_new.isna().sum()"
   ]
  },
  {
   "cell_type": "markdown",
   "metadata": {},
   "source": [
    "* Unique Values"
   ]
  },
  {
   "cell_type": "markdown",
   "metadata": {},
   "source": [
    "# Outlier Detection"
   ]
  },
  {
   "cell_type": "code",
   "execution_count": 12,
   "metadata": {},
   "outputs": [
    {
     "data": {
      "image/png": "[encoded data removed]",
      "text/plain": [
       "<Figure size 640x480 with 1 Axes>"
      ]
     },
     "metadata": {},
     "output_type": "display_data"
    },
    {
     "data": {
      "image/png": "[encoded data removed]",
      "text/plain": [
       "<Figure size 640x480 with 1 Axes>"
      ]
     },
     "metadata": {},
     "output_type": "display_data"
    },
    {
     "data": {
      "image/png": "[encoded data removed]",
      "text/plain": [
       "<Figure size 640x480 with 1 Axes>"
      ]
     },
     "metadata": {},
     "output_type": "display_data"
    },
    {
     "data": {
      "image/png": "[encoded data removed]",
      "text/plain": [
       "<Figure size 640x480 with 1 Axes>"
      ]
     },
     "metadata": {},
     "output_type": "display_data"
    },
    {
     "data": {
      "image/png": "[encoded data removed]",
      "text/plain": [
       "<Figure size 640x480 with 1 Axes>"
      ]
     },
     "metadata": {},
     "output_type": "display_data"
    },
    {
     "data": {
      "image/png": "[encoded data removed]",
      "text/plain": [
       "<Figure size 640x480 with 1 Axes>"
      ]
     },
     "metadata": {},
     "output_type": "display_data"
    },
    {
     "data": {
      "image/png": "[encoded data removed]",
      "text/plain": [
       "<Figure size 640x480 with 1 Axes>"
      ]
     },
     "metadata": {},
     "output_type": "display_data"
    },
    {
     "data": {
      "image/png": "[encoded data removed]",
      "text/plain": [
       "<Figure size 640x480 with 1 Axes>"
      ]
     },
     "metadata": {},
     "output_type": "display_data"
    },
    {
     "data": {
      "image/png": "[encoded data removed]",
      "text/plain": [
       "<Figure size 640x480 with 1 Axes>"
      ]
     },
     "metadata": {},
     "output_type": "display_data"
    }
   ],
   "source": [
    "for i in df_new:\n",
    "    if df_new[i].dtypes == \"int\" or df_new[i].dtypes == \"float\":\n",
    "        plt.title(i)\n",
    "        plt.boxplot(df_new[i])\n",
    "        plt.show()"
   ]
  },
  {
   "cell_type": "markdown",
   "metadata": {},
   "source": [
    "# Encoded DataSet"
   ]
  },
  {
   "cell_type": "code",
   "execution_count": 13,
   "metadata": {},
   "outputs": [],
   "source": [
    "df_encoded = df_new.copy()"
   ]
  },
  {
   "cell_type": "code",
   "execution_count": 14,
   "metadata": {},
   "outputs": [
    {
     "name": "stdout",
     "output_type": "stream",
     "text": [
      "Gender\n",
      "Female    57830\n",
      "Male      57810\n",
      "Name: count, dtype: int64\n",
      "\n",
      "Education\n",
      "Master's       28970\n",
      "Diploma        28950\n",
      "High School    28868\n",
      "Bachelor's     28852\n",
      "Name: count, dtype: int64\n",
      "\n",
      "Marital_Status\n",
      "Single      38684\n",
      "Divorced    38539\n",
      "Married     38417\n",
      "Name: count, dtype: int64\n",
      "\n",
      "Communication_Preference\n",
      "Email    58044\n",
      "Phone    57596\n",
      "Name: count, dtype: int64\n",
      "\n"
     ]
    }
   ],
   "source": [
    "for i in df_encoded:\n",
    "    if df_encoded[i].dtypes == \"object\":\n",
    "        print(df_encoded[i].value_counts())\n",
    "        print()"
   ]
  },
  {
   "cell_type": "markdown",
   "metadata": {},
   "source": [
    "* Label & Ordinal Encoding"
   ]
  },
  {
   "cell_type": "code",
   "execution_count": 15,
   "metadata": {},
   "outputs": [],
   "source": [
    "le_gender = LabelEncoder()\n",
    "df_encoded[\"Gender\"] = le_gender.fit_transform(df_encoded[\"Gender\"])\n",
    "\n",
    "le_communication = LabelEncoder()\n",
    "df_encoded[\"Communication_Preference\"] = le_communication.fit_transform(df_encoded[\"Communication_Preference\"])\n",
    "\n",
    "oe_education = OrdinalEncoder(categories=[[\"High School\",\"Diploma\",\"Bachelor's\",\"Master's\"]])\n",
    "df_encoded[\"Education\"] = oe_education.fit_transform(df_encoded[[\"Education\"]])\n",
    "\n",
    "oe_marital_status = OrdinalEncoder(categories=[[\"Single\",\"Married\",\"Divorced\"]])\n",
    "df_encoded[\"Marital_Status\"] = oe_marital_status.fit_transform(df_encoded[[\"Marital_Status\"]])"
   ]
  },
  {
   "cell_type": "markdown",
   "metadata": {},
   "source": [
    "* Type Conversion (float to int)"
   ]
  },
  {
   "cell_type": "code",
   "execution_count": 16,
   "metadata": {},
   "outputs": [
    {
     "data": {
      "text/html": [
       "<div>\n",
       "<style scoped>\n",
       "    .dataframe tbody tr th:only-of-type {\n",
       "        vertical-align: middle;\n",
       "    }\n",
       "\n",
       "    .dataframe tbody tr th {\n",
       "        vertical-align: top;\n",
       "    }\n",
       "\n",
       "    .dataframe thead th {\n",
       "        text-align: right;\n",
       "    }\n",
       "</style>\n",
       "<table border=\"1\" class=\"dataframe\">\n",
       "  <thead>\n",
       "    <tr style=\"text-align: right;\">\n",
       "      <th></th>\n",
       "      <th>Gender</th>\n",
       "      <th>Age</th>\n",
       "      <th>Education</th>\n",
       "      <th>Marital_Status</th>\n",
       "      <th>Dependents</th>\n",
       "      <th>Income</th>\n",
       "      <th>Tenure</th>\n",
       "      <th>Communication_Preference</th>\n",
       "      <th>Credit_Score</th>\n",
       "      <th>Credit_History_Length</th>\n",
       "      <th>Outstanding_Loans</th>\n",
       "      <th>Balance</th>\n",
       "      <th>Churn_Flag</th>\n",
       "    </tr>\n",
       "  </thead>\n",
       "  <tbody>\n",
       "    <tr>\n",
       "      <th>0</th>\n",
       "      <td>1</td>\n",
       "      <td>37</td>\n",
       "      <td>0</td>\n",
       "      <td>2</td>\n",
       "      <td>3</td>\n",
       "      <td>77710</td>\n",
       "      <td>30</td>\n",
       "      <td>1</td>\n",
       "      <td>397</td>\n",
       "      <td>24</td>\n",
       "      <td>41959</td>\n",
       "      <td>211359</td>\n",
       "      <td>0</td>\n",
       "    </tr>\n",
       "    <tr>\n",
       "      <th>1</th>\n",
       "      <td>0</td>\n",
       "      <td>25</td>\n",
       "      <td>0</td>\n",
       "      <td>1</td>\n",
       "      <td>1</td>\n",
       "      <td>58209</td>\n",
       "      <td>27</td>\n",
       "      <td>0</td>\n",
       "      <td>665</td>\n",
       "      <td>10</td>\n",
       "      <td>8916</td>\n",
       "      <td>30624</td>\n",
       "      <td>0</td>\n",
       "    </tr>\n",
       "    <tr>\n",
       "      <th>2</th>\n",
       "      <td>0</td>\n",
       "      <td>71</td>\n",
       "      <td>0</td>\n",
       "      <td>0</td>\n",
       "      <td>1</td>\n",
       "      <td>9794</td>\n",
       "      <td>14</td>\n",
       "      <td>0</td>\n",
       "      <td>715</td>\n",
       "      <td>21</td>\n",
       "      <td>43270</td>\n",
       "      <td>111956</td>\n",
       "      <td>0</td>\n",
       "    </tr>\n",
       "    <tr>\n",
       "      <th>3</th>\n",
       "      <td>0</td>\n",
       "      <td>34</td>\n",
       "      <td>0</td>\n",
       "      <td>2</td>\n",
       "      <td>5</td>\n",
       "      <td>15088</td>\n",
       "      <td>23</td>\n",
       "      <td>1</td>\n",
       "      <td>747</td>\n",
       "      <td>17</td>\n",
       "      <td>17887</td>\n",
       "      <td>201187</td>\n",
       "      <td>0</td>\n",
       "    </tr>\n",
       "    <tr>\n",
       "      <th>4</th>\n",
       "      <td>0</td>\n",
       "      <td>33</td>\n",
       "      <td>3</td>\n",
       "      <td>2</td>\n",
       "      <td>2</td>\n",
       "      <td>60726</td>\n",
       "      <td>22</td>\n",
       "      <td>0</td>\n",
       "      <td>549</td>\n",
       "      <td>25</td>\n",
       "      <td>32686</td>\n",
       "      <td>60391</td>\n",
       "      <td>0</td>\n",
       "    </tr>\n",
       "  </tbody>\n",
       "</table>\n",
       "</div>"
      ],
      "text/plain": [
       "   Gender  Age  Education  ...  Outstanding_Loans  Balance  Churn_Flag\n",
       "0       1   37          0  ...              41959   211359           0\n",
       "1       0   25          0  ...               8916    30624           0\n",
       "2       0   71          0  ...              43270   111956           0\n",
       "3       0   34          0  ...              17887   201187           0\n",
       "4       0   33          3  ...              32686    60391           0\n",
       "\n",
       "[5 rows x 13 columns]"
      ]
     },
     "execution_count": 16,
     "metadata": {},
     "output_type": "execute_result"
    }
   ],
   "source": [
    "df_encoded = df_encoded.astype(int)\n",
    "df_encoded.head()"
   ]
  },
  {
   "cell_type": "markdown",
   "metadata": {},
   "source": [
    "* Correlation of datas"
   ]
  },
  {
   "cell_type": "code",
   "execution_count": 17,
   "metadata": {},
   "outputs": [
    {
     "data": {
      "image/png": "[encoded data removed]",
      "text/plain": [
       "<Figure size 1500x500 with 2 Axes>"
      ]
     },
     "metadata": {},
     "output_type": "display_data"
    }
   ],
   "source": [
    "plt.figure(figsize=(15,5))\n",
    "sns.heatmap(df_encoded.corr(numeric_only=True),annot=True)\n",
    "plt.show()"
   ]
  },
  {
   "cell_type": "markdown",
   "metadata": {},
   "source": [
    "* Correlation with Label Columns "
   ]
  },
  {
   "cell_type": "code",
   "execution_count": 18,
   "metadata": {},
   "outputs": [
    {
     "data": {
      "text/plain": [
       "Gender                      0.001280\n",
       "Age                        -0.002437\n",
       "Education                   0.002939\n",
       "Marital_Status              0.003774\n",
       "Dependents                  0.003109\n",
       "Income                      0.002286\n",
       "Tenure                      0.000344\n",
       "Communication_Preference    0.000069\n",
       "Credit_Score               -0.182802\n",
       "Credit_History_Length       0.002899\n",
       "Outstanding_Loans          -0.001146\n",
       "Balance                    -0.499981\n",
       "Churn_Flag                  1.000000\n",
       "Name: Churn_Flag, dtype: float64"
      ]
     },
     "execution_count": 18,
     "metadata": {},
     "output_type": "execute_result"
    }
   ],
   "source": [
    "df_encoded.corr(numeric_only=True)[\"Churn_Flag\"]"
   ]
  },
  {
   "cell_type": "markdown",
   "metadata": {},
   "source": [
    "# X & Y"
   ]
  },
  {
   "cell_type": "code",
   "execution_count": 19,
   "metadata": {},
   "outputs": [],
   "source": [
    "x = df_encoded.drop(columns=[\"Churn_Flag\"])\n",
    "y = df_encoded[\"Churn_Flag\"]"
   ]
  },
  {
   "cell_type": "markdown",
   "metadata": {},
   "source": [
    "* Scaling \"x\" values"
   ]
  },
  {
   "cell_type": "code",
   "execution_count": 20,
   "metadata": {},
   "outputs": [],
   "source": [
    "scaler = StandardScaler()\n",
    "x_scaled = scaler.fit_transform(x)"
   ]
  },
  {
   "cell_type": "markdown",
   "metadata": {},
   "source": [
    "* Checking Label Counts"
   ]
  },
  {
   "cell_type": "code",
   "execution_count": 21,
   "metadata": {},
   "outputs": [
    {
     "data": {
      "text/plain": [
       "Churn_Flag\n",
       "0    101546\n",
       "1     14094\n",
       "Name: count, dtype: int64"
      ]
     },
     "execution_count": 21,
     "metadata": {},
     "output_type": "execute_result"
    }
   ],
   "source": [
    "y.value_counts()"
   ]
  },
  {
   "cell_type": "markdown",
   "metadata": {},
   "source": [
    "* Over Sampling \"y\""
   ]
  },
  {
   "cell_type": "code",
   "execution_count": 22,
   "metadata": {},
   "outputs": [
    {
     "data": {
      "text/plain": [
       "Churn_Flag\n",
       "0    101546\n",
       "1    101546\n",
       "Name: count, dtype: int64"
      ]
     },
     "execution_count": 22,
     "metadata": {},
     "output_type": "execute_result"
    }
   ],
   "source": [
    "# ros = RandomOverSampler()\n",
    "smote = SMOTE()\n",
    "x_res,y_res = smote.fit_resample(x_scaled,y)\n",
    "y_res.value_counts()"
   ]
  },
  {
   "cell_type": "markdown",
   "metadata": {},
   "source": [
    "# Train Test Split"
   ]
  },
  {
   "cell_type": "code",
   "execution_count": 23,
   "metadata": {},
   "outputs": [],
   "source": [
    "x_train,x_test,y_train,y_test = train_test_split(x_res,y_res,test_size=0.3,random_state=3)"
   ]
  },
  {
   "cell_type": "code",
   "execution_count": 24,
   "metadata": {},
   "outputs": [
    {
     "name": "stdout",
     "output_type": "stream",
     "text": [
      "KNeighborsClassifier()\n",
      "              precision    recall  f1-score   support\n",
      "\n",
      "           0       1.00      0.82      0.90     30598\n",
      "           1       0.85      1.00      0.92     30330\n",
      "\n",
      "    accuracy                           0.91     60928\n",
      "   macro avg       0.92      0.91      0.91     60928\n",
      "weighted avg       0.92      0.91      0.91     60928\n",
      "\n",
      "\n",
      "SVC()\n",
      "              precision    recall  f1-score   support\n",
      "\n",
      "           0       0.97      0.87      0.92     30598\n",
      "           1       0.88      0.98      0.93     30330\n",
      "\n",
      "    accuracy                           0.92     60928\n",
      "   macro avg       0.93      0.92      0.92     60928\n",
      "weighted avg       0.93      0.92      0.92     60928\n",
      "\n",
      "\n",
      "GaussianNB()\n",
      "              precision    recall  f1-score   support\n",
      "\n",
      "           0       0.96      0.85      0.90     30598\n",
      "           1       0.86      0.96      0.91     30330\n",
      "\n",
      "    accuracy                           0.91     60928\n",
      "   macro avg       0.91      0.91      0.91     60928\n",
      "weighted avg       0.91      0.91      0.91     60928\n",
      "\n",
      "\n",
      "DecisionTreeClassifier()\n",
      "              precision    recall  f1-score   support\n",
      "\n",
      "           0       0.91      0.90      0.91     30598\n",
      "           1       0.90      0.92      0.91     30330\n",
      "\n",
      "    accuracy                           0.91     60928\n",
      "   macro avg       0.91      0.91      0.91     60928\n",
      "weighted avg       0.91      0.91      0.91     60928\n",
      "\n",
      "\n"
     ]
    }
   ],
   "source": [
    "models = [KNeighborsClassifier(),SVC(),GaussianNB(),DecisionTreeClassifier()]\n",
    "\n",
    "for i in models:\n",
    "    print(i)\n",
    "    i.fit(x_train,y_train)\n",
    "    y_pred = i.predict(x_test)\n",
    "    print(classification_report(y_test,y_pred))\n",
    "    # print(cross_val_score(i,x_train,y_train))\n",
    "    # print(cross_val_score(i,x_train,y_train).mean())\n",
    "    print()"
   ]
  },
  {
   "cell_type": "markdown",
   "metadata": {},
   "source": [
    "* SVC Gave the Most Accuracy"
   ]
  },
  {
   "cell_type": "markdown",
   "metadata": {},
   "source": [
    "# Support Vector Machine"
   ]
  },
  {
   "cell_type": "code",
   "execution_count": 25,
   "metadata": {},
   "outputs": [
    {
     "name": "stdout",
     "output_type": "stream",
     "text": [
      "[0.92529807 0.9189674  0.92322302 0.92332853 0.92409961]\n",
      "0.9229833228966768\n"
     ]
    }
   ],
   "source": [
    "svc = SVC()\n",
    "svc.fit(x_train,y_train)\n",
    "y_pred = svc.predict(x_test)\n",
    "cross_val = cross_val_score(svc,x_train,y_train) \n",
    "print(cross_val)\n",
    "print(cross_val.mean())"
   ]
  },
  {
   "cell_type": "markdown",
   "metadata": {},
   "source": [
    "* SVM gives out a Classification Report Score of 92%"
   ]
  },
  {
   "cell_type": "markdown",
   "metadata": {},
   "source": [
    "* SVM gives out a Cross Validation Score of 92%"
   ]
  },
  {
   "cell_type": "markdown",
   "metadata": {},
   "source": [
    "* No Need for HyperParameter Tuning"
   ]
  },
  {
   "cell_type": "markdown",
   "metadata": {},
   "source": [
    "# Pickle"
   ]
  },
  {
   "cell_type": "code",
   "execution_count": 28,
   "metadata": {},
   "outputs": [],
   "source": [
    "dit = {\"Model\":svc,\"Scaler\":scaler,\"Gender\":le_gender,\"Education\":oe_education,\"Marriage\":oe_marital_status,\"Communicate\":le_communication}\n",
    "\n",
    "with open(\"Bank_Churn_Loads.pkl\",\"wb\") as f:\n",
    "    pickle.dump(dit,f)"
   ]
  },
  {
   "cell_type": "code",
   "execution_count": 29,
   "metadata": {},
   "outputs": [
    {
     "data": {
      "text/plain": [
       "Index(['Gender', 'Age', 'Education', 'Marital_Status', 'Dependents', 'Income',\n",
       "       'Tenure', 'Communication_Preference', 'Credit_Score',\n",
       "       'Credit_History_Length', 'Outstanding_Loans', 'Balance'],\n",
       "      dtype='object')"
      ]
     },
     "execution_count": 29,
     "metadata": {},
     "output_type": "execute_result"
    }
   ],
   "source": [
    "x.columns"
   ]
  },
  {
   "cell_type": "code",
   "execution_count": 30,
   "metadata": {},
   "outputs": [
    {
     "name": "stdout",
     "output_type": "stream",
     "text": [
      "['Male' 'Female']\n",
      "\n",
      "['High School' \"Master's\" \"Bachelor's\" 'Diploma']\n",
      "\n",
      "['Divorced' 'Married' 'Single']\n",
      "\n",
      "['Phone' 'Email']\n",
      "\n"
     ]
    }
   ],
   "source": [
    "for i in df_new:\n",
    "    if df_new[i].dtypes == \"object\":\n",
    "        print(df_new[i].unique())\n",
    "        print()"
   ]
  }
 ],
 "metadata": {
  "kernelspec": {
   "display_name": "Python 3",
   "language": "python",
   "name": "python3"
  },
  "language_info": {
   "codemirror_mode": {
    "name": "ipython",
    "version": 3
   },
   "file_extension": ".py",
   "mimetype": "text/x-python",
   "name": "python",
   "nbconvert_exporter": "python",
   "pygments_lexer": "ipython3",
   "version": "3.10.11"
  }
 },
 "nbformat": 4,
 "nbformat_minor": 2
}
